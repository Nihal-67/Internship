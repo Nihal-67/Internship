{
 "cells": [
  {
   "cell_type": "code",
   "execution_count": null,
   "metadata": {},
   "outputs": [],
   "source": [
    "#Which of the following operators is used to calculate remainder in a division?\n",
    "#A) #   B) &\n",
    "#C) %   D) $\n",
    "\n",
    "#Ans is C.% is basically used to calculate the reminder in devision."
   ]
  },
  {
   "cell_type": "code",
   "execution_count": 1,
   "metadata": {},
   "outputs": [
    {
     "data": {
      "text/plain": [
       "0"
      ]
     },
     "execution_count": 1,
     "metadata": {},
     "output_type": "execute_result"
    }
   ],
   "source": [
    "#In python 2//3 is equal to?\n",
    "#A) 0.666   B) 0\n",
    "#C) 1       D) 0.67\n",
    "\n",
    "#Ans:ans is 0 it will round of the decmal no with the nearst numerical no\n",
    "x=2//3\n",
    "x"
   ]
  },
  {
   "cell_type": "code",
   "execution_count": 3,
   "metadata": {},
   "outputs": [
    {
     "data": {
      "text/plain": [
       "24"
      ]
     },
     "execution_count": 3,
     "metadata": {},
     "output_type": "execute_result"
    }
   ],
   "source": [
    "#In python, 6<<2 is equal to?\n",
    "#A) 36 B) 10\n",
    "#C) 24 D) 45\n",
    "\n",
    "#Ans:multiplying x by 2**y\n",
    "z=6 << 2\n",
    "z"
   ]
  },
  {
   "cell_type": "code",
   "execution_count": 4,
   "metadata": {},
   "outputs": [
    {
     "data": {
      "text/plain": [
       "2"
      ]
     },
     "execution_count": 4,
     "metadata": {},
     "output_type": "execute_result"
    }
   ],
   "source": [
    "#In python, 6&2 will give which of the following as output?\n",
    "#A)2    B)True\n",
    "#C)False   D)0\n",
    "\n",
    "#ans:A(& basically covert value into binary and done the addition and again convert it)\n",
    "6&2"
   ]
  },
  {
   "cell_type": "code",
   "execution_count": 5,
   "metadata": {},
   "outputs": [
    {
     "data": {
      "text/plain": [
       "6"
      ]
     },
     "execution_count": 5,
     "metadata": {},
     "output_type": "execute_result"
    }
   ],
   "source": [
    "#In python, 6|2 will give which of the following as output?\n",
    "#A)2  B)4\n",
    "#C)0  D)6\n",
    "\n",
    "#Ans:\n",
    "6|2"
   ]
  },
  {
   "cell_type": "code",
   "execution_count": null,
   "metadata": {},
   "outputs": [],
   "source": [
    "#What does the finally keyword denotes in python?\n",
    "#A) It is used to mark the end of the code\n",
    "#B) It encloses the lines of code which will be executed if any error occurs while executing the lines of code in the try block.\n",
    "#C) the finally block will be executed no matter if the try block raises an error or not.\n",
    "#D) None of the above\n",
    "\n",
    "#Ans: the answer is C,finally block will be executed no matter if the try block raises an error or not."
   ]
  },
  {
   "cell_type": "code",
   "execution_count": null,
   "metadata": {},
   "outputs": [],
   "source": [
    "#What does raise keyword is used for in python?\n",
    "#A) It is used to raise an exception.  B) It is used to define lambda function\n",
    "#C) it's not a keyword in python.  D) None of the above\n",
    "\n",
    "#Ans: Answer is A.It is used to raise an exception."
   ]
  },
  {
   "cell_type": "code",
   "execution_count": null,
   "metadata": {},
   "outputs": [],
   "source": [
    "#8. Which of the following is a common use case of yield keyword in python?\n",
    "#A) in defining an iterator B) while defining a lambda function\n",
    "#C) in defining a generator D) in for loop.\n",
    "\n",
    "#Ans: The Ans is C.yield keyword is defining a generator"
   ]
  },
  {
   "cell_type": "code",
   "execution_count": null,
   "metadata": {},
   "outputs": [],
   "source": [
    "#Which of the following are the valid variable names?\n",
    "#A) _abc   B) 1abc\n",
    "#C) abc2   D) None of the above\n",
    "\n",
    "#Ans: A,B,C"
   ]
  },
  {
   "cell_type": "code",
   "execution_count": null,
   "metadata": {},
   "outputs": [],
   "source": [
    "#Which of the following are the keywords in python?\n",
    "#A)yield  B)raise\n",
    "#C)look-in  D)all of the above\n",
    "\n",
    "#Ans: A and B"
   ]
  },
  {
   "cell_type": "code",
   "execution_count": 6,
   "metadata": {},
   "outputs": [
    {
     "name": "stdout",
     "output_type": "stream",
     "text": [
      "Please Enter a Number to Calulate the factorial: 12\n",
      "the Factoral of 12 is 479001600\n"
     ]
    }
   ],
   "source": [
    "#Write a python program to find the factorial of a number\n",
    "\n",
    "def factorial():\n",
    "    while True:\n",
    "        num= int(input(\"Please Enter a Number to Calulate the factorial: \"))\n",
    "        factorial=1\n",
    "\n",
    "        if num < 0:\n",
    "            print(\"The entered Number is Negative.pls Enter the positive number\")\n",
    "            continue\n",
    "        \n",
    "    \n",
    "        elif num == 0:\n",
    "            print(\"The Factorial of 0 is always 1\")\n",
    "       \n",
    "        else:\n",
    "            for i in range(1,num+1):\n",
    "                factorial=factorial*i\n",
    "            print(\"the Factoral of\",num ,\"is\",factorial)\n",
    "        break            \n",
    "            \n",
    "factorial()"
   ]
  },
  {
   "cell_type": "code",
   "execution_count": 24,
   "metadata": {},
   "outputs": [
    {
     "name": "stdout",
     "output_type": "stream",
     "text": [
      "Please Enter a Number: 6\n",
      "6 is a not a prime number.\n"
     ]
    }
   ],
   "source": [
    "#Write a python program to find whether a number is prime or composite.\n",
    "\n",
    "def Prime():\n",
    "    while True:\n",
    "        num= int(input(\"Please Enter a Number: \"))\n",
    "\n",
    "        if num <= 0:\n",
    "            print(\"The entered Number is not proper.Please enter proper number\")\n",
    "            continue\n",
    "            \n",
    "        elif num == 1:\n",
    "              print(\"1 is a non prime number.\")\n",
    "                \n",
    "        elif num == 2:\n",
    "              print(\"2 is a prime number.\")        \n",
    "        \n",
    "        else:\n",
    "            for i in range(2,num):\n",
    "                if (num % i == 0):\n",
    "                    print(num,\"is a not a prime number.\")\n",
    "                    break\n",
    "                else:\n",
    "                    print(num,\"is a prime number\")\n",
    "        break\n",
    "\n",
    "\n",
    "Prime()"
   ]
  },
  {
   "cell_type": "code",
   "execution_count": 28,
   "metadata": {},
   "outputs": [
    {
     "name": "stdout",
     "output_type": "stream",
     "text": [
      "Please Enter a string to check palandrome: saas\n",
      "the given charactor is palandrome\n"
     ]
    }
   ],
   "source": [
    "#Write a python program to check whether a given string is palindrome or not.\n",
    "\n",
    "def Palandrome():\n",
    "    #while True:\n",
    "    char= str(input(\"Please Enter a string to check palandrome: \"))\n",
    "    \n",
    "    if char == char[::-1]:\n",
    "        print(\"the given charactor is palandrome\")\n",
    "    else:\n",
    "        print(\"the given charactor is not a palandrome\")\n",
    "        \n",
    "Palandrome()        "
   ]
  },
  {
   "cell_type": "code",
   "execution_count": 30,
   "metadata": {},
   "outputs": [
    {
     "data": {
      "text/plain": [
       "'Hypotenuse = 5.0'"
      ]
     },
     "execution_count": 30,
     "metadata": {},
     "output_type": "execute_result"
    }
   ],
   "source": [
    "#Write a Python program to get the third side of right-angled triangle from two given sides.\n",
    "def pythagoras(opp_side,adj_side,hypotenuse):\n",
    "        if opp_side == str(\"x\"):\n",
    "            return (\"Opposite = \" + str(((hypotenuse**2) - (adj_side**2))**0.5))\n",
    "        elif adj_side == str(\"x\"):\n",
    "            return (\"Adjacent = \" + str(((hypotenuse**2) - (opp_side**2))**0.5))\n",
    "        elif hypotenuse == str(\"x\"):\n",
    "            return (\"Hypotenuse = \" + str(((opp_side**2) + (adj_side**2))**0.5))\n",
    "        else:\n",
    "            return \"All sides are alredy given!\"\n",
    "        \n",
    "pythagoras(3,4,'x')        "
   ]
  },
  {
   "cell_type": "code",
   "execution_count": 31,
   "metadata": {},
   "outputs": [
    {
     "name": "stdout",
     "output_type": "stream",
     "text": [
      "Please enter a charactor: sdsssad\n",
      "Count of all characters is :\n",
      " {'s': 4, 'd': 2, 'a': 1}\n"
     ]
    }
   ],
   "source": [
    "#Write a python program to print the frequency of each of the characters present in a given string\n",
    "def freq():\n",
    "    freq = str(input(\"Please enter a charactor: \"))\n",
    "    all_freq={}\n",
    "  \n",
    "    for i in freq:\n",
    "        if i in all_freq:\n",
    "            all_freq[i] += 1\n",
    "        else:\n",
    "            all_freq[i] = 1\n",
    "        \n",
    "    print (\"Count of all characters is :\\n \" +  str(all_freq))    \n",
    "\n",
    "freq()    \n",
    "            "
   ]
  }
 ],
 "metadata": {
  "kernelspec": {
   "display_name": "Python 3",
   "language": "python",
   "name": "python3"
  },
  "language_info": {
   "codemirror_mode": {
    "name": "ipython",
    "version": 3
   },
   "file_extension": ".py",
   "mimetype": "text/x-python",
   "name": "python",
   "nbconvert_exporter": "python",
   "pygments_lexer": "ipython3",
   "version": "3.8.5"
  }
 },
 "nbformat": 4,
 "nbformat_minor": 4
}
